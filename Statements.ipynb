{
  "nbformat": 4,
  "nbformat_minor": 0,
  "metadata": {
    "colab": {
      "provenance": [],
      "authorship_tag": "ABX9TyNKBP1vkjPbqkVhgbYl/FFR",
      "include_colab_link": true
    },
    "kernelspec": {
      "name": "python3",
      "display_name": "Python 3"
    },
    "language_info": {
      "name": "python"
    }
  },
  "cells": [
    {
      "cell_type": "markdown",
      "metadata": {
        "id": "view-in-github",
        "colab_type": "text"
      },
      "source": [
        "<a href=\"https://colab.research.google.com/github/ChamboxCom/functions-from-zero/blob/main/Statements.ipynb\" target=\"_parent\"><img src=\"https://colab.research.google.com/assets/colab-badge.svg\" alt=\"Open In Colab\"/></a>"
      ]
    },
    {
      "cell_type": "markdown",
      "source": [
        "## Learning statements"
      ],
      "metadata": {
        "id": "CiWL9u6owyMg"
      }
    },
    {
      "cell_type": "code",
      "source": [
        "print(\"Hello world\")"
      ],
      "metadata": {
        "id": "3SUFqxB3w0yP"
      },
      "execution_count": null,
      "outputs": []
    },
    {
      "cell_type": "markdown",
      "source": [
        "## Variables"
      ],
      "metadata": {
        "id": "5UFKYpuRyARJ"
      }
    },
    {
      "cell_type": "code",
      "source": [],
      "metadata": {
        "id": "GqWoGjfVxu0A"
      },
      "execution_count": null,
      "outputs": []
    }
  ]
}